{
  "nbformat": 4,
  "nbformat_minor": 0,
  "metadata": {
    "colab": {
      "provenance": [],
      "authorship_tag": "ABX9TyOW2fRyZhlcehP6QIXbQ/R0",
      "include_colab_link": true
    },
    "kernelspec": {
      "name": "python3",
      "display_name": "Python 3"
    },
    "language_info": {
      "name": "python"
    }
  },
  "cells": [
    {
      "cell_type": "markdown",
      "metadata": {
        "id": "view-in-github",
        "colab_type": "text"
      },
      "source": [
        "<a href=\"https://colab.research.google.com/github/Jawed2127/IRIS-PREDICTION-/blob/main/Student_Performance_Prediction_using_Logistic_Regression.ipynb\" target=\"_parent\"><img src=\"https://colab.research.google.com/assets/colab-badge.svg\" alt=\"Open In Colab\"/></a>"
      ]
    },
    {
      "cell_type": "code",
      "execution_count": 1,
      "metadata": {
        "colab": {
          "base_uri": "https://localhost:8080/"
        },
        "id": "EKeuNVWXnR3I",
        "outputId": "7ff3d954-679f-4d0e-ad9b-87d5da6592c6"
      },
      "outputs": [
        {
          "output_type": "stream",
          "name": "stdout",
          "text": [
            "📊 Dataset:\n",
            "   Hours_Studied  Attendance  Pass/Fail\n",
            "0              5          85          1\n",
            "1              2          60          0\n",
            "2              4          75          1\n",
            "3              1          50          0\n",
            "4              3          70          1\n",
            "5              6          90          1\n",
            "\n",
            "✅ Model Accuracy on Test Data: 50.00%\n",
            "\n",
            "🔮 Predictions for new data:\n",
            "   Hours_Studied  Attendance  Predicted Pass/Fail\n",
            "0              3          80                    1\n",
            "1              1          55                    0\n",
            "2              6          95                    1\n"
          ]
        }
      ],
      "source": [
        "# Step 1: Import required libraries\n",
        "import pandas as pd\n",
        "from sklearn.model_selection import train_test_split\n",
        "from sklearn.linear_model import LogisticRegression\n",
        "from sklearn.metrics import accuracy_score\n",
        "\n",
        "# Step 2: Manually create a small dataset\n",
        "data = {\n",
        "    'Hours_Studied': [5, 2, 4, 1, 3, 6],\n",
        "    'Attendance': [85, 60, 75, 50, 70, 90],\n",
        "    'Pass/Fail': [1, 0, 1, 0, 1, 1]\n",
        "}\n",
        "\n",
        "# Step 3: Load into a DataFrame\n",
        "df = pd.DataFrame(data)\n",
        "print(\"📊 Dataset:\")\n",
        "print(df)\n",
        "\n",
        "# Step 4: Split features and labels\n",
        "X = df[['Hours_Studied', 'Attendance']]  # Features\n",
        "y = df['Pass/Fail']                      # Target\n",
        "\n",
        "# Step 5: Split into train and test sets (80% train, 20% test)\n",
        "X_train, X_test, y_train, y_test = train_test_split(X, y, test_size=0.2, random_state=42)\n",
        "\n",
        "# Step 6: Initialize and train the Logistic Regression model\n",
        "model = LogisticRegression()\n",
        "model.fit(X_train, y_train)\n",
        "\n",
        "# Step 7: Predict on the test set\n",
        "y_pred = model.predict(X_test)\n",
        "\n",
        "# Step 8: Check model accuracy\n",
        "accuracy = accuracy_score(y_test, y_pred)\n",
        "print(f\"\\n✅ Model Accuracy on Test Data: {accuracy * 100:.2f}%\")\n",
        "\n",
        "# Step 9: Predict on new input data\n",
        "new_data = pd.DataFrame({\n",
        "    'Hours_Studied': [3, 1, 6],\n",
        "    'Attendance': [80, 55, 95]\n",
        "})\n",
        "new_predictions = model.predict(new_data)\n",
        "print(\"\\n🔮 Predictions for new data:\")\n",
        "print(pd.concat([new_data, pd.Series(new_predictions, name='Predicted Pass/Fail')], axis=1))\n"
      ]
    }
  ]
}